{
 "cells": [
  {
   "cell_type": "markdown",
   "id": "c0d7c2b5",
   "metadata": {},
   "source": [
    "# 1. 필요한 패키지"
   ]
  },
  {
   "cell_type": "code",
   "execution_count": null,
   "id": "8e9b1fab",
   "metadata": {},
   "outputs": [],
   "source": [
    "import pandas as pd\n",
    "import numpy as np\n",
    "import tensorflow as tf\n",
    "import joblib\n",
    "\n",
    "from tensorflow import keras\n",
    "from keras.layers import LSTM, RepeatVector, TimeDistributed, Dense, Input\n",
    "from keras.models import Model\n",
    "from keras.callbacks import ModelCheckpoint, EarlyStopping\n",
    "from sklearn.metrics import accuracy_score, f1_score, recall_score, precision_score\n",
    "from datetime import datetime\n",
    "from pyod.models.iforest import IForest"
   ]
  },
  {
   "cell_type": "markdown",
   "id": "6b42908f",
   "metadata": {},
   "source": [
    "# 2. LSTM AutoEncoder"
   ]
  },
  {
   "cell_type": "markdown",
   "id": "e33ff98a",
   "metadata": {},
   "source": [
    "- LSTM AutoEncoder를 이용한 시계열 기반 데이터 이상탐지 테스트 단계"
   ]
  },
  {
   "cell_type": "code",
   "execution_count": null,
   "id": "909e3f35",
   "metadata": {},
   "outputs": [],
   "source": [
    "def evaluate_data(Y_test, Y_pred, hyperparameter_file_name):\n",
    "\n",
    "    TP = 0\n",
    "    FP = 0\n",
    "    FN = 0\n",
    "    TN = 0\n",
    "\n",
    "    for i in range(len(Y_pred)):\n",
    "        if Y_test[i] == 0 and Y_pred[i] == 0:\n",
    "            TN = TN + 1\n",
    "        elif Y_test[i] == 0 and Y_pred[i] == 1:\n",
    "            FP = FP + 1\n",
    "        elif Y_test[i] == 1 and Y_pred[i] == 0:\n",
    "            FN = FN + 1\n",
    "        elif Y_test[i] == 1 and Y_pred[i] == 1:\n",
    "            TP = TP + 1\n",
    "\n",
    "    row_data = {\"Accuracy\" : [accuracy_score(Y_test, Y_pred)],\n",
    "                \"F1_Score\" : [f1_score(Y_test, Y_pred)],\n",
    "                \"Recall\" : [recall_score(Y_test, Y_pred)],\n",
    "                \"Precision\" : [precision_score(Y_test, Y_pred)],\n",
    "                \"TN\" : [TN],\n",
    "                \"FP\" : [FP],\n",
    "                \"FN\" : [FN],\n",
    "                \"TP\" : [TP]}\n",
    "    df = pd.DataFrame(row_data)\n",
    "    df.to_csv(\"/BTS/result/Test_result/\" + hyperparameter_file_name + \".csv\")"
   ]
  },
  {
   "cell_type": "code",
   "execution_count": null,
   "id": "c6483d6f",
   "metadata": {},
   "outputs": [],
   "source": [
    "def define_LSTM_model(X_train):\n",
    "    training_model = keras.models.Sequential([\n",
    "        LSTM(140, activation = 'tanh', input_shape = (X_train.shape[1], X_train.shape[2]), return_sequences = True),\n",
    "        LSTM(70, activation = 'tanh', return_sequences = False),\n",
    "        RepeatVector(X_train.shape[1]),\n",
    "        LSTM(70, activation = 'tanh' , return_sequences = True),\n",
    "        LSTM(140, activation = 'tanh', return_sequences = True),\n",
    "        TimeDistributed(Dense(X_train.shape[2]))\n",
    "    ])\n",
    "    return training_model\n",
    "\n",
    "def LSTM_training(training_model, hyperparameter, hyperparameter_file_name, X_train, y_train):\n",
    "    class CustomCallback(keras.callbacks.Callback):\n",
    "        def on_train_begin(self, logs = None):\n",
    "            raw_data = {'epoch' : [],\n",
    "                        'train_loss' : [],\n",
    "                        \"train_accuracy\" : [],\n",
    "                        'validation_loss' : [],\n",
    "                        'validation_accuracy' : [],\n",
    "                        'timestamp' : []}\n",
    "            df = pd.DataFrame(raw_data)\n",
    "            df.to_csv(\"/BTS/process_log/\" + hyperparameter_file_name + \".csv\", index = False)\n",
    "        def on_epoch_end(self, epoch, logs=None):\n",
    "            now = datetime.now()\n",
    "            df = pd.read_csv(\"/BTS/process_log/\" + hyperparameter_file_name + \".csv\")\n",
    "            df.loc[-1]=[epoch, logs[\"loss\"], logs[\"binary_accuracy\"], logs[\"val_loss\"], logs[\"val_binary_accuracy\"], now.timestamp()]\n",
    "            df.to_csv(\"/BTS/process_log/\" + hyperparameter_file_name + \".csv\", index = False)\n",
    "        def on_train_end(self, epoch, logs=None):\n",
    "            df = pd.read_csv(\"/BTS/process_log/\" + hyperparameter_file_name + \".csv\")\n",
    "            df.loc[-1]=[hyperparameter[\"epochs\"], 0, 0, 0, 0, 0]\n",
    "            df.to_csv(\"/BTS/process_log/\" + hyperparameter_file_name + \".csv\", index = False)\n",
    "    \n",
    "    filename = ('/BTS/training_model/training_model(' + hyperparameter_file_name + \").h5\")\n",
    "    checkpoint = ModelCheckpoint(filename, monitor = 'val_loss', verbose = 1, save_best_only = True, mode = 'auto')\n",
    "    earlystopping = EarlyStopping(monitor = 'val_loss', patience = 30)\n",
    "\n",
    "    training_model.compile(optimizer = keras.optimizers.Adam(learning_rate = hyperparameter[\"learning_rate\"]), loss = 'mse', metrics = tf.keras.metrics.BinaryAccuracy())\n",
    "    training_model.fit(X_train, X_train, epochs = hyperparameter[\"epochs\"], batch_size = hyperparameter[\"batch_size\"], validation_split = 0.1, shuffle = False, callbacks = [checkpoint, earlystopping, CustomCallback()])\n",
    "\n",
    "def threshold(X_train, hyperparameter_file_name, X_train_column):\n",
    "    filename = \"/BTS/training_model/training_model(\" + hyperparameter_file_name + \").h5\"\n",
    "    model = keras.models.load_model(filename)\n",
    "    X_pred = model.predict(X_train)\n",
    "    X_pred = X_pred.reshape(X_pred.shape[0], X_pred.shape[2])\n",
    "    X_pred = pd.DataFrame(X_pred, columns = X_train_column)\n",
    "\n",
    "    scored = pd.DataFrame()\n",
    "    X_train = X_train.reshape(X_train.shape[0], X_train.shape[2])\n",
    "    scored[\"Loss_mae\"] = np.mean(np.abs(X_pred - X_train), axis = 1)\n",
    "    threshold = np.percentile(scored, 100)\n",
    "    return threshold\n",
    "\n",
    "def LSTM_test(hyperparameter_file_name, X_test, y_test, X_train_column, threshold):\n",
    "    model = keras.models.load_model(\"/BTS/training_model/training_model(\" + hyperparameter_file_name + \").h5\")\n",
    "    X_pred = model.predict(X_test)\n",
    "    X_pred = X_pred.reshape(X_pred.shape[0], X_pred.shape[2])\n",
    "    X_pred = pd.DataFrame(X_pred, columns = X_train_column)\n",
    "\n",
    "    score = pd.DataFrame(index = X_pred.index)\n",
    "    X_test = X_test.reshape(X_test.shape[0], X_test.shape[2])\n",
    "    score[\"Loss_mae\"] = np.mean(np.abs(X_pred - X_test), axis = 1)\n",
    "    score['Threshold'] = threshold\n",
    "    score['y_pred'] = score[\"Loss_mae\"] > score[\"Threshold\"]\n",
    "    \n",
    "    temp_list = []\n",
    "    for i in range(len(score)):\n",
    "        if score[\"y_pred\"][i] == False:\n",
    "            temp_list.append(0)\n",
    "        else:\n",
    "            temp_list.append(1)\n",
    "\n",
    "    score[\"y_pred\"] = temp_list\n",
    "    score[\"y_test\"] = y_test\n",
    "    return score"
   ]
  },
  {
   "cell_type": "markdown",
   "id": "1179410f",
   "metadata": {},
   "source": [
    "# 2. IForest"
   ]
  },
  {
   "cell_type": "markdown",
   "id": "768108fd",
   "metadata": {},
   "source": [
    "- IForest를 이용한 시계열 기반 데이터 이상탐지 테스트 단계"
   ]
  },
  {
   "cell_type": "code",
   "execution_count": null,
   "id": "21c0f0cc",
   "metadata": {},
   "outputs": [],
   "source": [
    "def IForest_training(df, X_train, y_train, hyperparameter_file_name):\n",
    "\n",
    "    model_path = \"/BTS/training_model/training_model(\" + hyperparameter_file_name + \").pkl\"\n",
    "    contam = round(len(df.loc[df['label']==1]) / (len(df.loc[df['label']==0]) + len(df.loc[df['label']==1])), 2)\n",
    "    model = IForest(contamination = contam, random_state=777)\n",
    "    model = model.fit(X_train, y_train)\n",
    "    joblib.dump(model, model_path)\n",
    "\n",
    "    return model\n",
    "\n",
    "def IForest_test(X_test, y_test, hyperparameter_file_name):\n",
    "\n",
    "    model = joblib.load(\"/BTS/training_model/training_model(\" + hyperparameter_file_name + \").pkl\")\n",
    "    y_pred = model.predict(X_test)\n",
    "    row_data = {\"y_test\" : y_test, \"y_pred\" : y_pred}\n",
    "    score = pd.DataFrame(row_data)\n",
    "    return score"
   ]
  }
 ],
 "metadata": {
  "kernelspec": {
   "display_name": "Python 3",
   "language": "python",
   "name": "python3"
  },
  "language_info": {
   "codemirror_mode": {
    "name": "ipython",
    "version": 3
   },
   "file_extension": ".py",
   "mimetype": "text/x-python",
   "name": "python",
   "nbconvert_exporter": "python",
   "pygments_lexer": "ipython3",
   "version": "3.8.8"
  }
 },
 "nbformat": 4,
 "nbformat_minor": 5
}
