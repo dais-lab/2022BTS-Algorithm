{
 "cells": [
  {
   "cell_type": "markdown",
   "id": "086253cf",
   "metadata": {},
   "source": [
    "# 1. Requirements"
   ]
  },
  {
   "cell_type": "markdown",
   "id": "1ef97d86",
   "metadata": {},
   "source": [
    "- Python 3.5+\n",
    "- Tensorflow 2.9.0\n",
    "- Pandas\n",
    "- Numpy\n",
    "- Scikit-learn\n",
    "- Matplotlib"
   ]
  },
  {
   "cell_type": "markdown",
   "id": "957a7e80",
   "metadata": {},
   "source": [
    "# 2. Code"
   ]
  },
  {
   "cell_type": "code",
   "execution_count": null,
   "id": "9e8ee1d6",
   "metadata": {},
   "outputs": [],
   "source": [
    "import pandas as pd\n",
    "import numpy as np\n",
    "import json\n",
    "import os\n",
    "import matplotlib.pyplot as plt\n",
    "import splitfolders\n",
    "\n",
    "from sklearn.preprocessing import StandardScaler\n",
    "from sklearn.model_selection import train_test_split"
   ]
  },
  {
   "cell_type": "code",
   "execution_count": null,
   "id": "9510ead0",
   "metadata": {},
   "outputs": [],
   "source": [
    "def json_path(json_path):\n",
    "    \"\"\"\n",
    "    csv 파일을 DataFrame으로 불러 읽어오는 함수\n",
    "    \"\"\"\n",
    "    with open(json_path, 'r') as file:\n",
    "        data = json.load(file)\n",
    "    return data"
   ]
  },
  {
   "cell_type": "markdown",
   "id": "ea584c92",
   "metadata": {},
   "source": [
    "# 2-1. LSTM AutoEncoder"
   ]
  },
  {
   "cell_type": "code",
   "execution_count": null,
   "id": "9c7a537c",
   "metadata": {},
   "outputs": [],
   "source": [
    "def split_train_test(df):\n",
    "    \"\"\"\n",
    "    data를 train_data와 test_data로 split하는 함수로, 전체 data의 70%를 train_data로 처리한다.\n",
    "    input에 dataframe이 들어가며, output으로는 train_data, test_data가 나오게 된다.\n",
    "    \"\"\"\n",
    "    df.drop(columns = [\"Time\"], axis = 1, inplace = True)\n",
    "    train_data = df[:round(len(df)*0.7)]\n",
    "    train_data = train_data[train_data['label'] == 0]\n",
    "    test_data = df[round(len(df)*0.7):]\n",
    "    return train_data, test_data"
   ]
  },
  {
   "cell_type": "code",
   "execution_count": null,
   "id": "81404783",
   "metadata": {},
   "outputs": [],
   "source": [
    "def LSTM_train_data(train_data):\n",
    "    X_train = train_data.drop([train_data.columns[-1]], axis = 1)\n",
    "    X_train_column = X_train.columns\n",
    "    scaler = StandardScaler()\n",
    "    X_train = scaler.fit_transform(X_train)\n",
    "    y_train = list(train_data['label'])\n",
    "    return X_train, y_train, X_train_column"
   ]
  },
  {
   "cell_type": "code",
   "execution_count": null,
   "id": "6a29876f",
   "metadata": {},
   "outputs": [],
   "source": [
    "def LSTM_test_data(test_data):\n",
    "    X_test = test_data.drop([test_data.columns[-1]], axis = 1)\n",
    "    scaler = StandardScaler()\n",
    "    X_test = scaler.fit_transform(X_test)\n",
    "    y_test = list(test_data['label'])\n",
    "    return X_test, y_test"
   ]
  },
  {
   "cell_type": "code",
   "execution_count": null,
   "id": "027ab35a",
   "metadata": {},
   "outputs": [],
   "source": [
    "def reshape(X_train, X_test):\n",
    "    X_train = X_train.reshape(X_train.shape[0], 1, X_train.shape[1])\n",
    "    X_test = X_test.reshape(X_test.shape[0], 1, X_test.shape[1])\n",
    "    return X_train, X_test"
   ]
  }
 ],
 "metadata": {
  "kernelspec": {
   "display_name": "Python 3",
   "language": "python",
   "name": "python3"
  },
  "language_info": {
   "codemirror_mode": {
    "name": "ipython",
    "version": 3
   },
   "file_extension": ".py",
   "mimetype": "text/x-python",
   "name": "python",
   "nbconvert_exporter": "python",
   "pygments_lexer": "ipython3",
   "version": "3.8.8"
  }
 },
 "nbformat": 4,
 "nbformat_minor": 5
}
