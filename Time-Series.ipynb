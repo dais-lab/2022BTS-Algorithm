{
 "cells": [
  {
   "cell_type": "markdown",
   "id": "31cc8c29",
   "metadata": {},
   "source": [
    "# 1. 필요한 패키지"
   ]
  },
  {
   "cell_type": "code",
   "execution_count": null,
   "id": "e2370e98",
   "metadata": {},
   "outputs": [],
   "source": [
    "import pandas as pd\n",
    "import numpy as np\n",
    "import json\n",
    "import os\n",
    "import matplotlib.pyplot as plt\n",
    "import splitfolders\n",
    "\n",
    "from sklearn.preprocessing import StandardScaler\n",
    "from sklearn.model_selection import train_test_split"
   ]
  },
  {
   "cell_type": "code",
   "execution_count": null,
   "id": "6ba06bc8",
   "metadata": {},
   "outputs": [],
   "source": [
    "def json_path(json_path):\n",
    "    \"\"\"\n",
    "    csv 파일을 DataFrame으로 불러 읽어오는 함수\n",
    "    \"\"\"\n",
    "    with open(json_path, 'r') as file:\n",
    "        data = json.load(file)\n",
    "    return data"
   ]
  },
  {
   "cell_type": "markdown",
   "id": "1eaea126",
   "metadata": {},
   "source": [
    "# 1-1. LSTM AutoEncoder"
   ]
  },
  {
   "cell_type": "markdown",
   "id": "9b4e1dab",
   "metadata": {},
   "source": [
    "- LSTM AutoEncoder를 이용한 시계열 기반 데이터 이상탐지 데이터전처리 단계"
   ]
  },
  {
   "cell_type": "code",
   "execution_count": null,
   "id": "4f9a8611",
   "metadata": {},
   "outputs": [],
   "source": [
    "def split_train_test(df):\n",
    "    \"\"\"\n",
    "    data를 train_data와 test_data로 split하는 함수로, 전체 data의 70%를 train_data로 처리한다.\n",
    "    train값에는 정상인 데이터만 필요하기 때문에 정상인 데이터만 뽑아주는 과정을 거친다.\n",
    "    \n",
    "    input에 dataframe이 들어가며, output으로는 train_data, test_data가 나오게 된다.\n",
    "    \"\"\"\n",
    "    df.drop(columns = [\"Time\"], axis = 1, inplace = True)\n",
    "    train_data = df[:round(len(df)*0.7)]\n",
    "    train_data = train_data[train_data['label'] == 0]\n",
    "    test_data = df[round(len(df)*0.7):]\n",
    "    return train_data, test_data"
   ]
  },
  {
   "cell_type": "code",
   "execution_count": null,
   "id": "efc21802",
   "metadata": {},
   "outputs": [],
   "source": [
    "def LSTM_train_data(train_data):\n",
    "    \"\"\"\n",
    "    X_train은 train_data에서 label을 제외한 dataframe이다.\n",
    "    X_train을 표준화한다.\n",
    "    y_train은 train_data에서 label 값만 불러와 리스트화한다.\n",
    "    \n",
    "    input에 split_train_test에서 만든 train_data가 들어가며, output으로는 X_train, y_train, X_train_column이 나오게 된다.\n",
    "    \"\"\"\n",
    "    X_train = train_data.drop([train_data.columns[-1]], axis = 1)\n",
    "    X_train_column = X_train.columns\n",
    "    scaler = StandardScaler()\n",
    "    X_train = scaler.fit_transform(X_train)\n",
    "    y_train = list(train_data['label'])\n",
    "    return X_train, y_train, X_train_column"
   ]
  },
  {
   "cell_type": "code",
   "execution_count": null,
   "id": "ed6fc316",
   "metadata": {},
   "outputs": [],
   "source": [
    "def LSTM_test_data(test_data):\n",
    "    \"\"\"\n",
    "    X_test는 test_data에서 label을 제외한 dataframe이다.\n",
    "    X_test를 표준화한다.\n",
    "    y_test는 test_data에서 label 값만 불러와 리스트화한다.\n",
    "    \n",
    "    input에 split_train_test에서 만든 test_data가 들어가며, output으로는 X_test, y_test가 나오게 된다.\n",
    "    \"\"\"\n",
    "    X_test = test_data.drop([test_data.columns[-1]], axis = 1)\n",
    "    scaler = StandardScaler()\n",
    "    X_test = scaler.fit_transform(X_test)\n",
    "    y_test = list(test_data['label'])\n",
    "    return X_test, y_test"
   ]
  },
  {
   "cell_type": "code",
   "execution_count": null,
   "id": "b1757a52",
   "metadata": {},
   "outputs": [],
   "source": [
    "def reshape(X_train, X_test):\n",
    "    \"\"\"\n",
    "    모델에 맞게 데이터 형태 바꿔준다.\n",
    "    \n",
    "    input에 X_train, X_test data가 들어가며, output으로는 X_train, X_test가 나오게 된다.\n",
    "    \"\"\"\n",
    "    X_train = X_train.reshape(X_train.shape[0], 1, X_train.shape[1])\n",
    "    X_test = X_test.reshape(X_test.shape[0], 1, X_test.shape[1])\n",
    "    return X_train, X_test"
   ]
  },
  {
   "cell_type": "markdown",
   "id": "2a114e26",
   "metadata": {},
   "source": [
    "# 1.2 IForest"
   ]
  },
  {
   "cell_type": "markdown",
   "id": "a3b0f503",
   "metadata": {},
   "source": [
    "- IForest를 이용한 시계열 기반 데이터 이상탐지 데이터전처리 단계"
   ]
  },
  {
   "cell_type": "code",
   "execution_count": null,
   "id": "b761dd4c",
   "metadata": {},
   "outputs": [],
   "source": [
    "def pick_column(df):\n",
    "    \"\"\"\n",
    "    각각 필요한 data만 뽑는다.\n",
    "    \n",
    "    input에 dataframe이 들어가며, output으로는 X_data, y_data가 나오게 된다.\n",
    "    \"\"\"\n",
    "    \n",
    "    y_data = df['label']\n",
    "    X_data = df.drop(['Time', 'label'], axis=1)\n",
    "\n",
    "    return X_data, y_data"
   ]
  }
 ],
 "metadata": {
  "kernelspec": {
   "display_name": "Python 3",
   "language": "python",
   "name": "python3"
  },
  "language_info": {
   "codemirror_mode": {
    "name": "ipython",
    "version": 3
   },
   "file_extension": ".py",
   "mimetype": "text/x-python",
   "name": "python",
   "nbconvert_exporter": "python",
   "pygments_lexer": "ipython3",
   "version": "3.8.8"
  }
 },
 "nbformat": 4,
 "nbformat_minor": 5
}
